{
 "cells": [
  {
   "cell_type": "code",
   "execution_count": null,
   "id": "7b7d4ed0-7364-4566-88bd-f3c0da47e77f",
   "metadata": {},
   "outputs": [],
   "source": [
    "import pandas as pd\n",
    "import sqlalchemy\n",
    "import pyodbc\n",
    "import numpy as np\n",
    "import os\n",
    "from config import *"
   ]
  },
  {
   "cell_type": "code",
   "execution_count": null,
   "id": "613e5493-2fbb-410b-af8c-c396a34e5bfd",
   "metadata": {},
   "outputs": [],
   "source": [
    "from sqlalchemy.engine import URL\n",
    "connection_url = URL.create(\"mssql+pyodbc\", query={\"odbc_connect\": pna_connection_string})\n",
    "\n",
    "from sqlalchemy import create_engine\n",
    "engine = create_engine(connection_url)\n",
    "\n",
    "from sqlalchemy.types import NVARCHAR\n",
    "cursor = engine.connect()"
   ]
  },
  {
   "cell_type": "code",
   "execution_count": null,
   "id": "5fc6f7fd-036f-4871-8e9c-867ffd9c2029",
   "metadata": {},
   "outputs": [],
   "source": [
    "# Set Brand Initials: CT, KP, or WC\n",
    "BRAND = 'CT'\n",
    "# Set Source Code Prefix: B = CT, C = KP, D = WC\n",
    "SOURCE = 'B'\n",
    "# Set Year: Last 2 digits of year.\n",
    "YEAR = '24'\n",
    "# Set Mailing: 0-8\n",
    "CATALOG = '3'\n",
    "# Month Initials: 2 letter month, just for file naming conventions..\n",
    "MONTH = 'MY'"
   ]
  },
  {
   "cell_type": "code",
   "execution_count": null,
   "id": "9dfdbe20-3a55-4c85-9a4e-c68221c468d5",
   "metadata": {},
   "outputs": [],
   "source": [
    "# Runs a sproc that generates mailing lists and generates segments based on account characteristics. \n",
    "# Don't edit the sproc to hypertune segment, segments already start at minimum acceptable values.\n",
    "query = (\"EXEC Netsuite.report.catalog @Brand = '\"+BRAND+\"'\")\n",
    "\n",
    "# Run Query.\n",
    "df = pd.read_sql(query, engine)\n",
    "\n",
    "#Create full sourcecode before processing begins.\n",
    "df['sourcecode'] = SOURCE + YEAR + CATALOG + df['segment'].astype(str)"
   ]
  },
  {
   "cell_type": "code",
   "execution_count": null,
   "id": "df59da40-dc53-4c5b-94ae-d205e80a6fb0",
   "metadata": {},
   "outputs": [],
   "source": [
    "#Initial Counts for review.\n",
    "pd.pivot_table(df, values='customerid', index='sourcecode', aggfunc='count', margins=True, margins_name='Total')"
   ]
  },
  {
   "cell_type": "code",
   "execution_count": null,
   "id": "88f05a6d-d88a-416d-89ad-94d51b149713",
   "metadata": {},
   "outputs": [],
   "source": [
    "# New Customer, Domestic: 1 Purchase, LTV > $15, last Order Date < 9 months.\n",
    "df_100N = df[df['segment'] == \"100\"]\n",
    "df_100N = df_100N.sample(frac = 0.10)\n",
    "df['sourcecode'] = np.where(df['customerid'].isin(df_100N['customerid']), df['sourcecode']+\"N\", df['sourcecode'])"
   ]
  },
  {
   "cell_type": "code",
   "execution_count": null,
   "id": "cbe00227-d70d-40da-89e6-4c6010e3eec9",
   "metadata": {},
   "outputs": [],
   "source": [
    "# New Customer, Canada: 1 Purchase, LTV > $15, last Order Date < 9 months.\n",
    "df_400N = df[df['segment'] == \"400\"]\n",
    "df_400N = df_400N.sample(frac = 0.10)\n",
    "df['sourcecode'] = np.where(df['customerid'].isin(df_400N['customerid']), df['sourcecode']+\"N\", df['sourcecode'])"
   ]
  },
  {
   "cell_type": "code",
   "execution_count": null,
   "id": "32b5fd3e-9e7a-436f-9139-6c0ad784e9c4",
   "metadata": {
    "scrolled": true
   },
   "outputs": [],
   "source": [
    "# Active High Value, Domestic: Purchase > 1, LTV > $300, last Order Date < 9 months.\n",
    "df_101N = df[df['segment'] == \"101\"]\n",
    "df_101N = df_101N.sample(frac = 0.05)\n",
    "df['sourcecode'] = np.where(df['customerid'].isin(df_101N['customerid']), df['sourcecode']+\"N\", df['sourcecode'])"
   ]
  },
  {
   "cell_type": "code",
   "execution_count": null,
   "id": "af603b85-472d-42e1-9a92-e4d391d8782f",
   "metadata": {},
   "outputs": [],
   "source": [
    "# Active High Value, Canada: Purchase > 1, LTV > $300, last Order Date < 9 months.\n",
    "df_401N = df[df['segment'] == \"401\"]\n",
    "df_401N = df_401N.sample(frac = 0.05)\n",
    "df['sourcecode'] = np.where(df['customerid'].isin(df_401N['customerid']), df['sourcecode']+\"N\", df['sourcecode'])"
   ]
  },
  {
   "cell_type": "code",
   "execution_count": null,
   "id": "48d2f4ee-262b-444f-ac45-d2e98d09f25f",
   "metadata": {},
   "outputs": [],
   "source": [
    "# Active, Domestic: Purchase > 1, $15 < LTV < $300, last Order Date < 9 months.\n",
    "df_103N = df[df['segment'] == \"103\"]\n",
    "df_103N = df_103N.sample(frac = 0.10)\n",
    "df['sourcecode'] = np.where(df['customerid'].isin(df_103N['customerid']), df['sourcecode']+\"N\", df['sourcecode'])"
   ]
  },
  {
   "cell_type": "code",
   "execution_count": null,
   "id": "5ebb4721-e75f-4732-81c4-15f9c1eeb110",
   "metadata": {},
   "outputs": [],
   "source": [
    "# Active, Canada: Purchase > 1, $15 < LTV < $300, last Order Date < 9 months.\n",
    "df_403N = df[df['segment'] == \"403\"]\n",
    "df_403N = df_403N.sample(frac = 0.10)\n",
    "df['sourcecode'] = np.where(df['customerid'].isin(df_403N['customerid']), df['sourcecode']+\"N\", df['sourcecode'])"
   ]
  },
  {
   "cell_type": "code",
   "execution_count": null,
   "id": "7b8c58cd-e2c0-4642-9873-0b788409fa48",
   "metadata": {},
   "outputs": [],
   "source": [
    "# At Risk, Domestic: Purchase > 1, $15 < LTV < $300, last Order Date between 9 month and 12 months.\n",
    "df_104N = df[df['segment'] == \"104\"]\n",
    "df_104N = df_104N.sample(frac = 0.10)\n",
    "df['sourcecode'] = np.where(df['customerid'].isin(df_104N['customerid']), df['sourcecode']+\"N\", df['sourcecode'])"
   ]
  },
  {
   "cell_type": "code",
   "execution_count": null,
   "id": "33626a37-fb0e-4348-9ea1-53f8be353cd3",
   "metadata": {},
   "outputs": [],
   "source": [
    "# At Risk, Canada: Purchase > 1, $15 < LTV < $300, last Order Date between 9 month and 12 months.\n",
    "df_404N = df[df['segment'] == \"404\"]\n",
    "df_404N = df_404N.sample(frac = 0.10)\n",
    "df['sourcecode'] = np.where(df['customerid'].isin(df_404N['customerid']), df['sourcecode']+\"N\", df['sourcecode'])"
   ]
  },
  {
   "cell_type": "code",
   "execution_count": null,
   "id": "e2053bfa-3baa-4ed6-bdb6-39de1726f21f",
   "metadata": {},
   "outputs": [],
   "source": [
    "# Reactivate High Value, Domestic: Purchase > 1, LTV > $60, last Order Date between 1 year and 2 years.\n",
    "df_105N = df[df['segment'] == \"105\"]\n",
    "df_105N = df_105N.sample(frac = 0.50)\n",
    "df['sourcecode'] = np.where(df['customerid'].isin(df_105N['customerid']), df['sourcecode']+\"N\", df['sourcecode'])"
   ]
  },
  {
   "cell_type": "code",
   "execution_count": null,
   "id": "ae5c6592-92ce-432a-ac32-f3106860a9ec",
   "metadata": {},
   "outputs": [],
   "source": [
    "# Reactivate High Value, Canada: Purchase > 1, LTV > $60, last Order Date between 1 year and 2 years.\n",
    "df_405N = df[df['segment'] == \"405\"]\n",
    "df_405N = df_405N.sample(frac = 0.50)\n",
    "df['sourcecode'] = np.where(df['customerid'].isin(df_405N['customerid']), df['sourcecode']+\"N\", df['sourcecode'])"
   ]
  },
  {
   "cell_type": "code",
   "execution_count": null,
   "id": "6747058b-d972-4b39-810b-dabc9c232955",
   "metadata": {},
   "outputs": [],
   "source": [
    "# Old High Value, Domestic: Purchase > 1, LTV > $100, last Order Date between 2 year and 4 years.\n",
    "# Look for if average days between orderse is 4x average.\n",
    "df_106N = df[(df['segment'] == \"106\") & ((df['daystochurn'] * 4) > df['lastpurchdays'])]\n",
    "df['sourcecode'] = np.where(df['customerid'].isin(df_106N['customerid']), df['sourcecode']+\"N\", df['sourcecode'])"
   ]
  },
  {
   "cell_type": "code",
   "execution_count": null,
   "id": "c619872e-a057-4d6d-94f5-b0b17cbce890",
   "metadata": {},
   "outputs": [],
   "source": [
    "# Old High Value, Canada: Purchase > 1, LTV > $100, last Order Date between 2 year and 4 years.\n",
    "# Look for if average days between orderse is 4x average.\n",
    "df_406N = df[(df['segment'] == \"406\") & ((df['daystochurn'] * 4) > df['lastpurchdays'])]\n",
    "df['sourcecode'] = np.where(df['customerid'].isin(df_406N['customerid']), df['sourcecode']+\"N\", df['sourcecode'])"
   ]
  },
  {
   "cell_type": "code",
   "execution_count": null,
   "id": "11f951fc-2220-4b05-bbe0-99add8455cd9",
   "metadata": {},
   "outputs": [],
   "source": [
    "#Initial Counts for review.\n",
    "pd.pivot_table(df, values='customerid', index='sourcecode', aggfunc='count', margins=True, margins_name='Total')"
   ]
  },
  {
   "cell_type": "code",
   "execution_count": null,
   "id": "faee46b6-8e0b-4933-8e43-3537ef7e55c4",
   "metadata": {},
   "outputs": [],
   "source": [
    "# Remove extraneous columns.\n",
    "columns_to_drop = ['ok_catalog', 'lifetimeorders', 'lifetimerevenue', 'catalogsends', 'catalogorders', 'brand', 'status', 'daystochurn', 'lifetime', 'lastpurchdays']\n",
    "df.drop(columns=columns_to_drop, inplace=True)"
   ]
  },
  {
   "cell_type": "code",
   "execution_count": null,
   "id": "92ea878c-0e4b-4efe-97a7-e77689332203",
   "metadata": {},
   "outputs": [],
   "source": [
    "US_Segments = ['100', '101', '103', '104', '105', '106', '200', '000']\n",
    "US_Mailing_List = df[df['segment'].isin(US_Segments) & ~df['sourcecode'].str.endswith('N') & ~df['sourcecode'].str.endswith('X')]"
   ]
  },
  {
   "cell_type": "code",
   "execution_count": null,
   "id": "a2e79d78-c2b1-4c0e-a833-f8b222d3e386",
   "metadata": {},
   "outputs": [],
   "source": [
    "CA_Segments = ['400', '401', '403', '404', '405', '406', '210', '010']\n",
    "CA_Mailing_List = df[df['segment'].isin(CA_Segments) & ~df['sourcecode'].str.endswith('N') & ~df['sourcecode'].str.endswith('X')]"
   ]
  },
  {
   "cell_type": "code",
   "execution_count": null,
   "id": "06af2c03-765d-423c-8afa-bc1e697c5896",
   "metadata": {},
   "outputs": [],
   "source": [
    "All_Segments = ['100', '101', '103', '104', '105', '106', '000', '400', '401', '403', '404', '405', '406', '010']\n",
    "Holdouts = df[df['segment'].isin(All_Segments) & df['sourcecode'].str.endswith('N') | df['sourcecode'].str.endswith('X')]"
   ]
  },
  {
   "cell_type": "code",
   "execution_count": null,
   "id": "c30ffc27-bb78-47c2-b32b-132b55229e82",
   "metadata": {},
   "outputs": [],
   "source": [
    "# Create US mail files, put in applicable folders.\n",
    "folder_path = os.path.join('Mailing Lists', BRAND, MONTH + YEAR)\n",
    "if not os.path.exists(folder_path):\n",
    "    os.makedirs(folder_path)\n",
    "file_path = os.path.join(folder_path, f'{BRAND}_{MONTH}{YEAR}.csv')\n",
    "\n",
    "US_Mailing_List.to_csv(file_path, index=False)"
   ]
  },
  {
   "cell_type": "code",
   "execution_count": null,
   "id": "e7c50316-4dcb-4452-870d-1fa72cbe5d71",
   "metadata": {},
   "outputs": [],
   "source": [
    "# Create CA mail files, put in applicable folders.\n",
    "folder_path = os.path.join('Mailing Lists', BRAND, MONTH + YEAR)\n",
    "if not os.path.exists(folder_path):\n",
    "    os.makedirs(folder_path)\n",
    "file_path = os.path.join(folder_path, f'{BRAND}_{MONTH}{YEAR}_CA.csv')\n",
    "\n",
    "CA_Mailing_List.to_csv(file_path, index=False)"
   ]
  },
  {
   "cell_type": "code",
   "execution_count": null,
   "id": "9d1568b3-0981-492b-a7be-bd25094fcd40",
   "metadata": {},
   "outputs": [],
   "source": [
    "# Create holdout group file, put in applicable folders.\n",
    "folder_path = os.path.join('Mailing Lists', BRAND, MONTH + YEAR)\n",
    "if not os.path.exists(folder_path):\n",
    "    os.makedirs(folder_path)\n",
    "file_path = os.path.join(folder_path, f'{BRAND}_{MONTH}{YEAR}_HOLDS.csv')\n",
    "\n",
    "Holdouts.to_csv(file_path, index=False)"
   ]
  }
 ],
 "metadata": {
  "kernelspec": {
   "display_name": "Python 3 (ipykernel)",
   "language": "python",
   "name": "python3"
  },
  "language_info": {
   "codemirror_mode": {
    "name": "ipython",
    "version": 3
   },
   "file_extension": ".py",
   "mimetype": "text/x-python",
   "name": "python",
   "nbconvert_exporter": "python",
   "pygments_lexer": "ipython3",
   "version": "3.9.6"
  }
 },
 "nbformat": 4,
 "nbformat_minor": 5
}
