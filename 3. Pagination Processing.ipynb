{
 "cells": [
  {
   "cell_type": "code",
   "execution_count": null,
   "id": "ee975430-0d82-4707-8acf-c15357417335",
   "metadata": {},
   "outputs": [],
   "source": [
    "import pandas as pd\n",
    "import sqlalchemy\n",
    "import pyodbc\n",
    "import os\n",
    "from pw import *"
   ]
  },
  {
   "cell_type": "code",
   "execution_count": null,
   "id": "0b525f32-0114-48aa-a956-2fffec450e18",
   "metadata": {},
   "outputs": [],
   "source": [
    "from sqlalchemy.engine import URL\n",
    "connection_url = URL.create(\"mssql+pyodbc\", query={\"odbc_connect\": pna_connection_string})\n",
    "\n",
    "from sqlalchemy import create_engine\n",
    "engine = create_engine(connection_url)\n",
    "\n",
    "from sqlalchemy.types import NVARCHAR\n",
    "cursor = engine.connect()"
   ]
  },
  {
   "cell_type": "code",
   "execution_count": null,
   "id": "04c9c8c7-3846-4534-a823-982786c0048b",
   "metadata": {},
   "outputs": [],
   "source": [
    "## Set brand name.\n",
    "brand = 'CT'\n",
    "## Set catalog run name.\n",
    "catalog = 'WN24'\n",
    "## Set the start/in home date.\n",
    "startdate = '01/08/2024'\n",
    "\n",
    "# Auto-setting brand name.\n",
    "if brand == \"CT\":\n",
    "    name = \"Connecting Threads (CT)\"\n",
    "elif brand == \"KP\":\n",
    "    name = \"Knit Picks (KP)\"\n",
    "elif brand == \"ST\":\n",
    "    name = \"Superior Threads (ST)\"\n",
    "elif brand == \"WC\":\n",
    "    name = \"We Crochet (WC)\""
   ]
  },
  {
   "cell_type": "code",
   "execution_count": null,
   "id": "b97335af-6841-46f0-90b9-75ab092c9389",
   "metadata": {},
   "outputs": [],
   "source": [
    "csv = pd.read_csv(r'./Processing/'+brand+'_'+catalog+'.csv', dtype = object)"
   ]
  },
  {
   "cell_type": "code",
   "execution_count": null,
   "id": "f27aa3eb-b0a4-4ca6-9e02-2df721c4af97",
   "metadata": {},
   "outputs": [],
   "source": [
    "# Just pull in all item ids and their internal ids. \n",
    "# It's a small list, not very inefficient. \n",
    "items = (\n",
    "\"\"\"\n",
    "SELECT \n",
    "    itemid,\n",
    "    id as internalid\n",
    "FROM NetSuite.ns.Item\n",
    "\"\"\"\n",
    ")\n",
    "\n",
    "netsuite = pd.read_sql(items, engine)\n",
    "\n",
    "netsuite['internalid'] = netsuite['internalid'].astype(str)"
   ]
  },
  {
   "cell_type": "code",
   "execution_count": null,
   "id": "2ab88dd8-0a05-45da-b527-be0d070a0f29",
   "metadata": {},
   "outputs": [],
   "source": [
    "df = csv.merge(netsuite, left_on='Item', right_on='itemid', how='inner').reset_index(drop=True)"
   ]
  },
  {
   "cell_type": "code",
   "execution_count": null,
   "id": "5b27f157-b221-4e1e-a138-cd001e8d4488",
   "metadata": {},
   "outputs": [],
   "source": [
    "# Create a list of counts with 6-digit places depending on file size.\n",
    "total_rows = len(df)\n",
    "counts = [str(i).zfill(4) for i in range(1, total_rows + 1)]\n",
    "\n",
    "# Create External ID column.\n",
    "df['externalid'] = brand + '-' + catalog + '-PG-' +pd.Series(counts)\n",
    "\n",
    "# Add in home date.\n",
    "df['inhome'] = startdate\n",
    "\n",
    "# Add catalog code.\n",
    "df['catalog'] = catalog\n",
    "\n",
    "# Add brand name.\n",
    "df['brand'] = name\n",
    "\n",
    "# Drop extraneous columns not needed for import.\n",
    "df = df.drop(['Item', 'itemid', 'Brand', 'Catalog'], axis=1)"
   ]
  },
  {
   "cell_type": "code",
   "execution_count": null,
   "id": "8f387c59-ea3b-4fbe-ba0f-305d28f28786",
   "metadata": {},
   "outputs": [],
   "source": [
    "# Create US mail files, put in applicable folders.\n",
    "folder_path = os.path.join('Exports', brand, catalog, 'Pagination')\n",
    "if not os.path.exists(folder_path):\n",
    "    os.makedirs(folder_path)\n",
    "file_path = os.path.join(folder_path, f'{brand}_{catalog}.csv')\n",
    "\n",
    "df.to_csv(file_path, index=False)"
   ]
  },
  {
   "cell_type": "code",
   "execution_count": null,
   "id": "6e5d7bc0-8e27-47bb-be3b-733f3a8eaf47",
   "metadata": {},
   "outputs": [],
   "source": [
    "# Find missing or typo item ids.\n",
    "left_join_df = csv.merge(netsuite, left_on='Item', right_on='itemid', how='left')\n",
    "# Filter to get only rows where 'itemid' is null\n",
    "missing_df = left_join_df[left_join_df['itemid'].isnull()]\n",
    "\n",
    "missing_df.to_csv('missing_data.csv', index=False)"
   ]
  }
 ],
 "metadata": {
  "kernelspec": {
   "display_name": "Python 3 (ipykernel)",
   "language": "python",
   "name": "python3"
  },
  "language_info": {
   "codemirror_mode": {
    "name": "ipython",
    "version": 3
   },
   "file_extension": ".py",
   "mimetype": "text/x-python",
   "name": "python",
   "nbconvert_exporter": "python",
   "pygments_lexer": "ipython3",
   "version": "3.9.6"
  }
 },
 "nbformat": 4,
 "nbformat_minor": 5
}
