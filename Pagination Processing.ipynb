{
 "cells": [
  {
   "cell_type": "code",
   "execution_count": 1,
   "id": "ee975430-0d82-4707-8acf-c15357417335",
   "metadata": {},
   "outputs": [],
   "source": [
    "import pandas as pd\n",
    "import sqlalchemy\n",
    "import pyodbc\n",
    "import os\n",
    "from pw import *"
   ]
  },
  {
   "cell_type": "code",
   "execution_count": 2,
   "id": "0b525f32-0114-48aa-a956-2fffec450e18",
   "metadata": {},
   "outputs": [],
   "source": [
    "from sqlalchemy.engine import URL\n",
    "connection_string = \"DRIVER={ODBC Driver 17 for SQL Server};SERVER=\"+pna_server+\";DATABASE=\"+pna_db+\";UID=\"+user+\";PWD=\"+pwd+\";Trusted_Connection=YES\"\n",
    "connection_url = URL.create(\"mssql+pyodbc\", query={\"odbc_connect\": connection_string})\n",
    "\n",
    "from sqlalchemy import create_engine\n",
    "engine = create_engine(connection_url)\n",
    "\n",
    "from sqlalchemy.types import NVARCHAR\n",
    "cursor = engine.connect()"
   ]
  },
  {
   "cell_type": "code",
   "execution_count": 12,
   "id": "04c9c8c7-3846-4534-a823-982786c0048b",
   "metadata": {},
   "outputs": [],
   "source": [
    "## Set brand name.\n",
    "brand = 'CT'\n",
    "## Set catalog run name.\n",
    "catalog = 'WN24'\n",
    "## Set the start/in home date.\n",
    "startdate = '01/08/2024'\n",
    "\n",
    "# Auto-setting brand name.\n",
    "if brand == \"CT\":\n",
    "    name = \"Connecting Threads (CT)\"\n",
    "elif brand == \"KP\":\n",
    "    name = \"Knit Picks (KP)\"\n",
    "elif brand == \"ST\":\n",
    "    name = \"Superior Threads (ST)\"\n",
    "elif brand == \"WC\":\n",
    "    name = \"We Crochet (WC)\""
   ]
  },
  {
   "cell_type": "code",
   "execution_count": 13,
   "id": "b97335af-6841-46f0-90b9-75ab092c9389",
   "metadata": {},
   "outputs": [],
   "source": [
    "csv = pd.read_csv(r'./Processing/'+brand+'_'+catalog+'.csv', dtype = object)"
   ]
  },
  {
   "cell_type": "code",
   "execution_count": 14,
   "id": "8cdc5bb7-9426-407b-a3c6-e8c6877e2126",
   "metadata": {},
   "outputs": [
    {
     "data": {
      "text/html": [
       "<div>\n",
       "<style scoped>\n",
       "    .dataframe tbody tr th:only-of-type {\n",
       "        vertical-align: middle;\n",
       "    }\n",
       "\n",
       "    .dataframe tbody tr th {\n",
       "        vertical-align: top;\n",
       "    }\n",
       "\n",
       "    .dataframe thead th {\n",
       "        text-align: right;\n",
       "    }\n",
       "</style>\n",
       "<table border=\"1\" class=\"dataframe\">\n",
       "  <thead>\n",
       "    <tr style=\"text-align: right;\">\n",
       "      <th></th>\n",
       "      <th>Brand</th>\n",
       "      <th>Catalog</th>\n",
       "      <th>Page</th>\n",
       "      <th>Item</th>\n",
       "    </tr>\n",
       "  </thead>\n",
       "  <tbody>\n",
       "    <tr>\n",
       "      <th>0</th>\n",
       "      <td>Connecting Threads (CT)</td>\n",
       "      <td>WN24</td>\n",
       "      <td>4</td>\n",
       "      <td>B118956</td>\n",
       "    </tr>\n",
       "    <tr>\n",
       "      <th>1</th>\n",
       "      <td>Connecting Threads (CT)</td>\n",
       "      <td>WN24</td>\n",
       "      <td>4</td>\n",
       "      <td>B118957</td>\n",
       "    </tr>\n",
       "    <tr>\n",
       "      <th>2</th>\n",
       "      <td>Connecting Threads (CT)</td>\n",
       "      <td>WN24</td>\n",
       "      <td>4</td>\n",
       "      <td>B118958</td>\n",
       "    </tr>\n",
       "    <tr>\n",
       "      <th>3</th>\n",
       "      <td>Connecting Threads (CT)</td>\n",
       "      <td>WN24</td>\n",
       "      <td>4</td>\n",
       "      <td>B118959</td>\n",
       "    </tr>\n",
       "    <tr>\n",
       "      <th>4</th>\n",
       "      <td>Connecting Threads (CT)</td>\n",
       "      <td>WN24</td>\n",
       "      <td>4</td>\n",
       "      <td>B118160</td>\n",
       "    </tr>\n",
       "    <tr>\n",
       "      <th>...</th>\n",
       "      <td>...</td>\n",
       "      <td>...</td>\n",
       "      <td>...</td>\n",
       "      <td>...</td>\n",
       "    </tr>\n",
       "    <tr>\n",
       "      <th>593</th>\n",
       "      <td>Connecting Threads (CT)</td>\n",
       "      <td>WN24</td>\n",
       "      <td>46</td>\n",
       "      <td>B119020</td>\n",
       "    </tr>\n",
       "    <tr>\n",
       "      <th>594</th>\n",
       "      <td>Connecting Threads (CT)</td>\n",
       "      <td>WN24</td>\n",
       "      <td>46</td>\n",
       "      <td>B119015</td>\n",
       "    </tr>\n",
       "    <tr>\n",
       "      <th>595</th>\n",
       "      <td>Connecting Threads (CT)</td>\n",
       "      <td>WN24</td>\n",
       "      <td>46</td>\n",
       "      <td>B20950</td>\n",
       "    </tr>\n",
       "    <tr>\n",
       "      <th>596</th>\n",
       "      <td>Connecting Threads (CT)</td>\n",
       "      <td>WN24</td>\n",
       "      <td>46</td>\n",
       "      <td>B21164</td>\n",
       "    </tr>\n",
       "    <tr>\n",
       "      <th>597</th>\n",
       "      <td>Connecting Threads (CT)</td>\n",
       "      <td>WN24</td>\n",
       "      <td>47</td>\n",
       "      <td>B21251</td>\n",
       "    </tr>\n",
       "  </tbody>\n",
       "</table>\n",
       "<p>598 rows × 4 columns</p>\n",
       "</div>"
      ],
      "text/plain": [
       "                       Brand Catalog Page     Item\n",
       "0    Connecting Threads (CT)    WN24    4  B118956\n",
       "1    Connecting Threads (CT)    WN24    4  B118957\n",
       "2    Connecting Threads (CT)    WN24    4  B118958\n",
       "3    Connecting Threads (CT)    WN24    4  B118959\n",
       "4    Connecting Threads (CT)    WN24    4  B118160\n",
       "..                       ...     ...  ...      ...\n",
       "593  Connecting Threads (CT)    WN24   46  B119020\n",
       "594  Connecting Threads (CT)    WN24   46  B119015\n",
       "595  Connecting Threads (CT)    WN24   46   B20950\n",
       "596  Connecting Threads (CT)    WN24   46   B21164\n",
       "597  Connecting Threads (CT)    WN24   47   B21251\n",
       "\n",
       "[598 rows x 4 columns]"
      ]
     },
     "execution_count": 14,
     "metadata": {},
     "output_type": "execute_result"
    }
   ],
   "source": [
    "csv"
   ]
  },
  {
   "cell_type": "code",
   "execution_count": 38,
   "id": "f27aa3eb-b0a4-4ca6-9e02-2df721c4af97",
   "metadata": {},
   "outputs": [],
   "source": [
    "items = (\n",
    "\"\"\"\n",
    "SELECT \n",
    "    itemid,\n",
    "    id as internalid\n",
    "FROM DATA_IMPORTS.ns.Item\n",
    "\"\"\"\n",
    ")\n",
    "\n",
    "netsuite = pd.read_sql(items, engine)\n",
    "\n",
    "netsuite['internalid'] = netsuite['internalid'].astype(str)"
   ]
  },
  {
   "cell_type": "code",
   "execution_count": 39,
   "id": "2ab88dd8-0a05-45da-b527-be0d070a0f29",
   "metadata": {},
   "outputs": [],
   "source": [
    "df = csv.merge(netsuite, left_on='Item', right_on='itemid', how='inner').reset_index(drop=True)"
   ]
  },
  {
   "cell_type": "code",
   "execution_count": 40,
   "id": "5b27f157-b221-4e1e-a138-cd001e8d4488",
   "metadata": {},
   "outputs": [],
   "source": [
    "# Create a list of counts with 6-digit places depending on file size.\n",
    "total_rows = len(df)\n",
    "counts = [str(i).zfill(4) for i in range(1, total_rows + 1)]\n",
    "\n",
    "# Create External ID column.\n",
    "df['externalid'] = brand + '-' + catalog + '-PG-' +pd.Series(counts)\n",
    "\n",
    "# Add in home date.\n",
    "df['inhome'] = startdate\n",
    "\n",
    "# Add catalog code.\n",
    "df['catalog'] = catalog\n",
    "\n",
    "# Add brand name.\n",
    "df['brand'] = name\n",
    "\n",
    "# Drop columns\n",
    "df = df.drop(['Item', 'itemid', 'Brand', 'Catalog'], axis=1)"
   ]
  },
  {
   "cell_type": "code",
   "execution_count": 42,
   "id": "8f387c59-ea3b-4fbe-ba0f-305d28f28786",
   "metadata": {},
   "outputs": [],
   "source": [
    "# Create US mail files, put in applicable folders.\n",
    "folder_path = os.path.join('Exports', brand, catalog, 'Pagination')\n",
    "if not os.path.exists(folder_path):\n",
    "    os.makedirs(folder_path)\n",
    "file_path = os.path.join(folder_path, f'{brand}_{catalog}.csv')\n",
    "\n",
    "df.to_csv(file_path, index=False)"
   ]
  },
  {
   "cell_type": "code",
   "execution_count": 23,
   "id": "6e5d7bc0-8e27-47bb-be3b-733f3a8eaf47",
   "metadata": {},
   "outputs": [],
   "source": [
    "# Find missing or typo itemidss.\n",
    "left_join_df = csv.merge(netsuite, left_on='Item', right_on='itemid', how='left')\n",
    "# Filter to get only rows where 'itemid' is null\n",
    "missing_df = left_join_df[left_join_df['itemid'].isnull()]"
   ]
  },
  {
   "cell_type": "code",
   "execution_count": null,
   "id": "b6e80da1-c57b-498f-8b7f-f4f6b46b6878",
   "metadata": {},
   "outputs": [],
   "source": []
  }
 ],
 "metadata": {
  "kernelspec": {
   "display_name": "Python 3 (ipykernel)",
   "language": "python",
   "name": "python3"
  },
  "language_info": {
   "codemirror_mode": {
    "name": "ipython",
    "version": 3
   },
   "file_extension": ".py",
   "mimetype": "text/x-python",
   "name": "python",
   "nbconvert_exporter": "python",
   "pygments_lexer": "ipython3",
   "version": "3.9.6"
  }
 },
 "nbformat": 4,
 "nbformat_minor": 5
}
